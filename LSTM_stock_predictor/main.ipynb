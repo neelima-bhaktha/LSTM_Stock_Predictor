{
 "cells": [
  {
   "cell_type": "code",
   "execution_count": 4,
   "id": "b0ace035",
   "metadata": {},
   "outputs": [],
   "source": [
    "#DATA FETCHING AND VISUALIZATION"
   ]
  },
  {
   "cell_type": "code",
   "execution_count": 5,
   "id": "9d3e5847",
   "metadata": {},
   "outputs": [
    {
     "name": "stdout",
     "output_type": "stream",
     "text": [
      "Note: you may need to restart the kernel to use updated packages.\n"
     ]
    },
    {
     "name": "stderr",
     "output_type": "stream",
     "text": [
      "ERROR: Invalid requirement: '#installing'\n"
     ]
    }
   ],
   "source": [
    "%pip install yfinance #installing the data directly from the website"
   ]
  },
  {
   "cell_type": "code",
   "execution_count": 6,
   "id": "c0b918cb",
   "metadata": {},
   "outputs": [
    {
     "name": "stderr",
     "output_type": "stream",
     "text": [
      "C:\\Users\\HP\\AppData\\Local\\Temp\\ipykernel_15736\\2735247161.py:2: FutureWarning: YF.download() has changed argument auto_adjust default to True\n",
      "  data = yf.download('^NSEI', start='2018-01-01', end='2023-12-31') #we imported nifty50 dataset\n",
      "[*********************100%***********************]  1 of 1 completed\n"
     ]
    },
    {
     "data": {
      "text/html": [
       "<div>\n",
       "<style scoped>\n",
       "    .dataframe tbody tr th:only-of-type {\n",
       "        vertical-align: middle;\n",
       "    }\n",
       "\n",
       "    .dataframe tbody tr th {\n",
       "        vertical-align: top;\n",
       "    }\n",
       "\n",
       "    .dataframe thead tr th {\n",
       "        text-align: left;\n",
       "    }\n",
       "\n",
       "    .dataframe thead tr:last-of-type th {\n",
       "        text-align: right;\n",
       "    }\n",
       "</style>\n",
       "<table border=\"1\" class=\"dataframe\">\n",
       "  <thead>\n",
       "    <tr>\n",
       "      <th>Price</th>\n",
       "      <th>Close</th>\n",
       "      <th>High</th>\n",
       "      <th>Low</th>\n",
       "      <th>Open</th>\n",
       "      <th>Volume</th>\n",
       "    </tr>\n",
       "    <tr>\n",
       "      <th>Ticker</th>\n",
       "      <th>^NSEI</th>\n",
       "      <th>^NSEI</th>\n",
       "      <th>^NSEI</th>\n",
       "      <th>^NSEI</th>\n",
       "      <th>^NSEI</th>\n",
       "    </tr>\n",
       "    <tr>\n",
       "      <th>Date</th>\n",
       "      <th></th>\n",
       "      <th></th>\n",
       "      <th></th>\n",
       "      <th></th>\n",
       "      <th></th>\n",
       "    </tr>\n",
       "  </thead>\n",
       "  <tbody>\n",
       "    <tr>\n",
       "      <th>2018-01-02</th>\n",
       "      <td>10442.200195</td>\n",
       "      <td>10495.200195</td>\n",
       "      <td>10404.650391</td>\n",
       "      <td>10477.549805</td>\n",
       "      <td>153400</td>\n",
       "    </tr>\n",
       "    <tr>\n",
       "      <th>2018-01-03</th>\n",
       "      <td>10443.200195</td>\n",
       "      <td>10503.599609</td>\n",
       "      <td>10429.549805</td>\n",
       "      <td>10482.650391</td>\n",
       "      <td>167300</td>\n",
       "    </tr>\n",
       "    <tr>\n",
       "      <th>2018-01-04</th>\n",
       "      <td>10504.799805</td>\n",
       "      <td>10513.000000</td>\n",
       "      <td>10441.450195</td>\n",
       "      <td>10469.400391</td>\n",
       "      <td>174900</td>\n",
       "    </tr>\n",
       "    <tr>\n",
       "      <th>2018-01-05</th>\n",
       "      <td>10558.849609</td>\n",
       "      <td>10566.099609</td>\n",
       "      <td>10520.099609</td>\n",
       "      <td>10534.250000</td>\n",
       "      <td>180900</td>\n",
       "    </tr>\n",
       "    <tr>\n",
       "      <th>2018-01-08</th>\n",
       "      <td>10623.599609</td>\n",
       "      <td>10631.200195</td>\n",
       "      <td>10588.549805</td>\n",
       "      <td>10591.700195</td>\n",
       "      <td>169000</td>\n",
       "    </tr>\n",
       "  </tbody>\n",
       "</table>\n",
       "</div>"
      ],
      "text/plain": [
       "Price              Close          High           Low          Open  Volume\n",
       "Ticker             ^NSEI         ^NSEI         ^NSEI         ^NSEI   ^NSEI\n",
       "Date                                                                      \n",
       "2018-01-02  10442.200195  10495.200195  10404.650391  10477.549805  153400\n",
       "2018-01-03  10443.200195  10503.599609  10429.549805  10482.650391  167300\n",
       "2018-01-04  10504.799805  10513.000000  10441.450195  10469.400391  174900\n",
       "2018-01-05  10558.849609  10566.099609  10520.099609  10534.250000  180900\n",
       "2018-01-08  10623.599609  10631.200195  10588.549805  10591.700195  169000"
      ]
     },
     "execution_count": 6,
     "metadata": {},
     "output_type": "execute_result"
    }
   ],
   "source": [
    "import yfinance as yf\n",
    "data = yf.download('^NSEI', start='2018-01-01', end='2023-12-31') #we imported nifty50 dataset\n",
    "data.to_csv('data/stock_data.csv')  #converting to csv\n",
    "data.head()"
   ]
  },
  {
   "cell_type": "code",
   "execution_count": 7,
   "id": "74111297",
   "metadata": {},
   "outputs": [
    {
     "data": {
      "text/html": [
       "<div>\n",
       "<style scoped>\n",
       "    .dataframe tbody tr th:only-of-type {\n",
       "        vertical-align: middle;\n",
       "    }\n",
       "\n",
       "    .dataframe tbody tr th {\n",
       "        vertical-align: top;\n",
       "    }\n",
       "\n",
       "    .dataframe thead tr th {\n",
       "        text-align: left;\n",
       "    }\n",
       "\n",
       "    .dataframe thead tr:last-of-type th {\n",
       "        text-align: right;\n",
       "    }\n",
       "</style>\n",
       "<table border=\"1\" class=\"dataframe\">\n",
       "  <thead>\n",
       "    <tr>\n",
       "      <th>Price</th>\n",
       "      <th>Close</th>\n",
       "      <th>High</th>\n",
       "      <th>Low</th>\n",
       "      <th>Open</th>\n",
       "      <th>Volume</th>\n",
       "    </tr>\n",
       "    <tr>\n",
       "      <th>Ticker</th>\n",
       "      <th>^NSEI</th>\n",
       "      <th>^NSEI</th>\n",
       "      <th>^NSEI</th>\n",
       "      <th>^NSEI</th>\n",
       "      <th>^NSEI</th>\n",
       "    </tr>\n",
       "    <tr>\n",
       "      <th>Date</th>\n",
       "      <th></th>\n",
       "      <th></th>\n",
       "      <th></th>\n",
       "      <th></th>\n",
       "      <th></th>\n",
       "    </tr>\n",
       "  </thead>\n",
       "  <tbody>\n",
       "    <tr>\n",
       "      <th>2018-01-02</th>\n",
       "      <td>False</td>\n",
       "      <td>False</td>\n",
       "      <td>False</td>\n",
       "      <td>False</td>\n",
       "      <td>False</td>\n",
       "    </tr>\n",
       "    <tr>\n",
       "      <th>2018-01-03</th>\n",
       "      <td>False</td>\n",
       "      <td>False</td>\n",
       "      <td>False</td>\n",
       "      <td>False</td>\n",
       "      <td>False</td>\n",
       "    </tr>\n",
       "    <tr>\n",
       "      <th>2018-01-04</th>\n",
       "      <td>False</td>\n",
       "      <td>False</td>\n",
       "      <td>False</td>\n",
       "      <td>False</td>\n",
       "      <td>False</td>\n",
       "    </tr>\n",
       "    <tr>\n",
       "      <th>2018-01-05</th>\n",
       "      <td>False</td>\n",
       "      <td>False</td>\n",
       "      <td>False</td>\n",
       "      <td>False</td>\n",
       "      <td>False</td>\n",
       "    </tr>\n",
       "    <tr>\n",
       "      <th>2018-01-08</th>\n",
       "      <td>False</td>\n",
       "      <td>False</td>\n",
       "      <td>False</td>\n",
       "      <td>False</td>\n",
       "      <td>False</td>\n",
       "    </tr>\n",
       "    <tr>\n",
       "      <th>...</th>\n",
       "      <td>...</td>\n",
       "      <td>...</td>\n",
       "      <td>...</td>\n",
       "      <td>...</td>\n",
       "      <td>...</td>\n",
       "    </tr>\n",
       "    <tr>\n",
       "      <th>2023-12-22</th>\n",
       "      <td>False</td>\n",
       "      <td>False</td>\n",
       "      <td>False</td>\n",
       "      <td>False</td>\n",
       "      <td>False</td>\n",
       "    </tr>\n",
       "    <tr>\n",
       "      <th>2023-12-26</th>\n",
       "      <td>False</td>\n",
       "      <td>False</td>\n",
       "      <td>False</td>\n",
       "      <td>False</td>\n",
       "      <td>False</td>\n",
       "    </tr>\n",
       "    <tr>\n",
       "      <th>2023-12-27</th>\n",
       "      <td>False</td>\n",
       "      <td>False</td>\n",
       "      <td>False</td>\n",
       "      <td>False</td>\n",
       "      <td>False</td>\n",
       "    </tr>\n",
       "    <tr>\n",
       "      <th>2023-12-28</th>\n",
       "      <td>False</td>\n",
       "      <td>False</td>\n",
       "      <td>False</td>\n",
       "      <td>False</td>\n",
       "      <td>False</td>\n",
       "    </tr>\n",
       "    <tr>\n",
       "      <th>2023-12-29</th>\n",
       "      <td>False</td>\n",
       "      <td>False</td>\n",
       "      <td>False</td>\n",
       "      <td>False</td>\n",
       "      <td>False</td>\n",
       "    </tr>\n",
       "  </tbody>\n",
       "</table>\n",
       "<p>1477 rows × 5 columns</p>\n",
       "</div>"
      ],
      "text/plain": [
       "Price       Close   High    Low   Open Volume\n",
       "Ticker      ^NSEI  ^NSEI  ^NSEI  ^NSEI  ^NSEI\n",
       "Date                                         \n",
       "2018-01-02  False  False  False  False  False\n",
       "2018-01-03  False  False  False  False  False\n",
       "2018-01-04  False  False  False  False  False\n",
       "2018-01-05  False  False  False  False  False\n",
       "2018-01-08  False  False  False  False  False\n",
       "...           ...    ...    ...    ...    ...\n",
       "2023-12-22  False  False  False  False  False\n",
       "2023-12-26  False  False  False  False  False\n",
       "2023-12-27  False  False  False  False  False\n",
       "2023-12-28  False  False  False  False  False\n",
       "2023-12-29  False  False  False  False  False\n",
       "\n",
       "[1477 rows x 5 columns]"
      ]
     },
     "execution_count": 7,
     "metadata": {},
     "output_type": "execute_result"
    }
   ],
   "source": [
    "data.isnull()#check if there are any null values"
   ]
  },
  {
   "cell_type": "code",
   "execution_count": 8,
   "id": "2a4827bc",
   "metadata": {},
   "outputs": [
    {
     "data": {
      "text/plain": [
       "Price   Ticker\n",
       "Close   ^NSEI     0\n",
       "High    ^NSEI     0\n",
       "Low     ^NSEI     0\n",
       "Open    ^NSEI     0\n",
       "Volume  ^NSEI     0\n",
       "dtype: int64"
      ]
     },
     "execution_count": 8,
     "metadata": {},
     "output_type": "execute_result"
    }
   ],
   "source": [
    "data.isnull().sum()"
   ]
  },
  {
   "cell_type": "code",
   "execution_count": 9,
   "id": "0cf66e5f",
   "metadata": {},
   "outputs": [],
   "source": [
    "import pandas as pd\n",
    "import numpy as np\n",
    "import matplotlib.pyplot as plt  #necessary import statements for the fetching of the data"
   ]
  },
  {
   "cell_type": "code",
   "execution_count": 10,
   "id": "ba657b3b",
   "metadata": {},
   "outputs": [
    {
     "data": {
      "image/png": "[encoded data removed]",
      "text/plain": [
       "<Figure size 640x480 with 1 Axes>"
      ]
     },
     "metadata": {},
     "output_type": "display_data"
    }
   ],
   "source": [
    "x=data.index\n",
    "y=data['Close']\n",
    "plt.plot(x,y)\n",
    "plt.title(\"visual rep of the dataset\")\n",
    "plt.xlabel(\"date\")\n",
    "plt.ylabel(\"close\")\n",
    "plt.show()"
   ]
  },
  {
   "cell_type": "code",
   "execution_count": 11,
   "id": "694b6df9",
   "metadata": {},
   "outputs": [],
   "source": [
    "#PREPROCESSING THE DATA"
   ]
  },
  {
   "cell_type": "code",
   "execution_count": 12,
   "id": "099887fc",
   "metadata": {},
   "outputs": [],
   "source": [
    "df= data['Close']\n",
    "arr=np.array(df)\n",
    "arr=arr.reshape(-1,1)\n"
   ]
  },
  {
   "cell_type": "code",
   "execution_count": 14,
   "id": "b86c583c",
   "metadata": {},
   "outputs": [],
   "source": [
    "from sklearn.preprocessing import MinMaxScaler\n",
    "scaler=MinMaxScaler(feature_range=(0,1))\n",
    "scaled_data=scaler.fit_transform(arr)\n"
   ]
  },
  {
   "cell_type": "code",
   "execution_count": null,
   "id": "d705e2b2",
   "metadata": {},
   "outputs": [],
   "source": []
  }
 ],
 "metadata": {
  "kernelspec": {
   "display_name": "base",
   "language": "python",
   "name": "python3"
  },
  "language_info": {
   "codemirror_mode": {
    "name": "ipython",
    "version": 3
   },
   "file_extension": ".py",
   "mimetype": "text/x-python",
   "name": "python",
   "nbconvert_exporter": "python",
   "pygments_lexer": "ipython3",
   "version": "3.11.5"
  }
 },
 "nbformat": 4,
 "nbformat_minor": 5
}
